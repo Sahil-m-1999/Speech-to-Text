{
 "cells": [
  {
   "cell_type": "markdown",
   "metadata": {},
   "source": [
    "# Major Project"
   ]
  },
  {
   "cell_type": "markdown",
   "metadata": {},
   "source": [
    "## Batch - ML-2/12B3"
   ]
  },
  {
   "cell_type": "markdown",
   "metadata": {},
   "source": [
    "## Topic : Machine Learning Model for Speech to Text in Banking"
   ]
  },
  {
   "cell_type": "markdown",
   "metadata": {},
   "source": [
    "### By :-   Poojan Panchal, Vignesh Charan and Sahil Mondal"
   ]
  },
  {
   "cell_type": "markdown",
   "metadata": {},
   "source": [
    "### Problem Statement: "
   ]
  },
  {
   "cell_type": "markdown",
   "metadata": {},
   "source": [
    "The aim of the banking and financial industry is for speech recognition to reduce friction for the customer. Voice-activated banking could largely reduce the need for human customer service, and lower employee costs. A personalised banking assistant could in return boost customer satisfaction and loyalty.\n",
    "\n",
    "How speech recognition could improve banking:\n",
    "\n",
    "- Request information regarding your balance, transactions, and spending habits without having to open your cell phone\n",
    "- Make payments\n",
    "- Receive information about your transaction history"
   ]
  },
  {
   "cell_type": "markdown",
   "metadata": {},
   "source": [
    "#### Libraries used:"
   ]
  },
  {
   "cell_type": "code",
   "execution_count": 4,
   "metadata": {},
   "outputs": [
    {
     "name": "stdout",
     "output_type": "stream",
     "text": [
      "Collecting SpeechRecognition\n",
      "  Downloading SpeechRecognition-3.8.1-py2.py3-none-any.whl (32.8 MB)\n",
      "Installing collected packages: SpeechRecognition\n",
      "Successfully installed SpeechRecognition-3.8.1\n"
     ]
    }
   ],
   "source": [
    "! pip install SpeechRecognition\n",
    "import speech_recognition as sr #for speech recognition "
   ]
  },
  {
   "cell_type": "code",
   "execution_count": 5,
   "metadata": {},
   "outputs": [
    {
     "data": {
      "text/plain": [
       "'3.8.1'"
      ]
     },
     "execution_count": 5,
     "metadata": {},
     "output_type": "execute_result"
    }
   ],
   "source": [
    "sr.__version__"
   ]
  },
  {
   "cell_type": "markdown",
   "metadata": {},
   "source": [
    "#### Reading an Audio File in Python"
   ]
  },
  {
   "cell_type": "code",
   "execution_count": 6,
   "metadata": {},
   "outputs": [],
   "source": [
    "r=sr.Recognizer()"
   ]
  },
  {
   "cell_type": "markdown",
   "metadata": {},
   "source": [
    "## We will test this model with some basic statements"
   ]
  },
  {
   "cell_type": "markdown",
   "metadata": {},
   "source": [
    "### Testing Audio 1 :"
   ]
  },
  {
   "cell_type": "code",
   "execution_count": 7,
   "metadata": {},
   "outputs": [],
   "source": [
    "test1=sr.AudioFile('test01.wav')"
   ]
  },
  {
   "cell_type": "markdown",
   "metadata": {},
   "source": [
    "### Original Audio : \"I want to check my bank balance\""
   ]
  },
  {
   "cell_type": "code",
   "execution_count": 8,
   "metadata": {},
   "outputs": [],
   "source": [
    "with test1 as source:\n",
    "       audio=r.record(source)"
   ]
  },
  {
   "cell_type": "markdown",
   "metadata": {},
   "source": [
    "#### Data type of the audio"
   ]
  },
  {
   "cell_type": "code",
   "execution_count": 9,
   "metadata": {},
   "outputs": [
    {
     "data": {
      "text/plain": [
       "speech_recognition.AudioData"
      ]
     },
     "execution_count": 9,
     "metadata": {},
     "output_type": "execute_result"
    }
   ],
   "source": [
    "type(audio)"
   ]
  },
  {
   "cell_type": "markdown",
   "metadata": {},
   "source": [
    "#### Recognizing Speech in the Audio"
   ]
  },
  {
   "cell_type": "markdown",
   "metadata": {},
   "source": [
    "##### Predicting the Output with google api "
   ]
  },
  {
   "cell_type": "code",
   "execution_count": 13,
   "metadata": {},
   "outputs": [
    {
     "name": "stdout",
     "output_type": "stream",
     "text": [
      "Original Audio  : I want to check my bank balance\n",
      "Predicted audio :  I want to check my bank balance\n"
     ]
    }
   ],
   "source": [
    "print(\"Original Audio  : I want to check my bank balance\")\n",
    "print(\"Predicted audio : \",r.recognize_google(audio))\n"
   ]
  },
  {
   "cell_type": "markdown",
   "metadata": {},
   "source": [
    "### Testing Audio 2 :"
   ]
  },
  {
   "cell_type": "code",
   "execution_count": 14,
   "metadata": {},
   "outputs": [],
   "source": [
    "test2=sr.AudioFile('test02.wav')\n",
    "with test2 as source:\n",
    "       audio2=r.record(source)"
   ]
  },
  {
   "cell_type": "markdown",
   "metadata": {},
   "source": [
    "##### Predicting the Output with google api "
   ]
  },
  {
   "cell_type": "code",
   "execution_count": 15,
   "metadata": {},
   "outputs": [
    {
     "name": "stdout",
     "output_type": "stream",
     "text": [
      "Original Audio  : I want to withdraw 5000 rupees\n",
      "Predicted audio :  I want to withdraw 5000 rupees\n"
     ]
    }
   ],
   "source": [
    "print(\"Original Audio  : I want to withdraw 5000 rupees\")\n",
    "print(\"Predicted audio : \",r.recognize_google(audio2))"
   ]
  },
  {
   "cell_type": "markdown",
   "metadata": {},
   "source": [
    "### Testing Audio 3 :"
   ]
  },
  {
   "cell_type": "code",
   "execution_count": 16,
   "metadata": {},
   "outputs": [],
   "source": [
    "test3=sr.AudioFile('test03.wav')\n",
    "with test3 as source:\n",
    "       audio3=r.record(source)"
   ]
  },
  {
   "cell_type": "markdown",
   "metadata": {},
   "source": [
    "##### Predicting the Output with google api "
   ]
  },
  {
   "cell_type": "code",
   "execution_count": 18,
   "metadata": {},
   "outputs": [
    {
     "name": "stdout",
     "output_type": "stream",
     "text": [
      "Original Audio  : I want to deposit 2000 rupees\n",
      "Predicted audio :  I want to deposit 2000 rupees\n"
     ]
    }
   ],
   "source": [
    "print(\"Original Audio  : I want to deposit 2000 rupees\")\n",
    "print(\"Predicted audio : \",r.recognize_google(audio3))"
   ]
  },
  {
   "cell_type": "markdown",
   "metadata": {},
   "source": [
    "### Testing Audio 4 :"
   ]
  },
  {
   "cell_type": "code",
   "execution_count": 20,
   "metadata": {},
   "outputs": [],
   "source": [
    "test4=sr.AudioFile('test04.wav')\n",
    "with test4 as source:\n",
    "       audio4=r.record(source)"
   ]
  },
  {
   "cell_type": "markdown",
   "metadata": {},
   "source": [
    "##### Predicting the Output with google api "
   ]
  },
  {
   "cell_type": "code",
   "execution_count": 22,
   "metadata": {},
   "outputs": [
    {
     "name": "stdout",
     "output_type": "stream",
     "text": [
      "Original Audio  : with what interest can I apply for a home loan, in this Bank\n",
      "Predicted audio :  with what interest can I apply for home loan in this Bank\n"
     ]
    }
   ],
   "source": [
    "print(\"Original Audio  : with what interest can I apply for a home loan in this Bank\")\n",
    "print(\"Predicted audio : \",r.recognize_google(audio4))\n"
   ]
  },
  {
   "cell_type": "markdown",
   "metadata": {},
   "source": [
    "## Now, we will test some sentences with background noise!"
   ]
  },
  {
   "cell_type": "markdown",
   "metadata": {},
   "source": [
    "### Testing Audio 5 (With noise) :"
   ]
  },
  {
   "cell_type": "code",
   "execution_count": 23,
   "metadata": {},
   "outputs": [],
   "source": [
    "test5=sr.AudioFile('test05.wav')\n",
    "with test5 as source:\n",
    "       audio5=r.record(source)"
   ]
  },
  {
   "cell_type": "markdown",
   "metadata": {},
   "source": [
    "##### Predicting the Output with google api "
   ]
  },
  {
   "cell_type": "code",
   "execution_count": 25,
   "metadata": {},
   "outputs": [
    {
     "name": "stdout",
     "output_type": "stream",
     "text": [
      "Original Audio  : till which transaction can I see my mini statement\n",
      "Predicted audio :  till which transaction can I see my mini statement\n"
     ]
    }
   ],
   "source": [
    "print(\"Original Audio  : till which transaction can I see my mini statement\")\n",
    "print(\"Predicted audio : \",r.recognize_google(audio5))\n"
   ]
  },
  {
   "cell_type": "markdown",
   "metadata": {},
   "source": [
    "### Testing Audio 6 (With noise):"
   ]
  },
  {
   "cell_type": "code",
   "execution_count": 26,
   "metadata": {},
   "outputs": [],
   "source": [
    "test6=sr.AudioFile('test06.wav')\n",
    "with test6 as source:\n",
    "       audio6=r.record(source)"
   ]
  },
  {
   "cell_type": "markdown",
   "metadata": {},
   "source": [
    "##### Predicting the Output with google api "
   ]
  },
  {
   "cell_type": "code",
   "execution_count": 28,
   "metadata": {},
   "outputs": [
    {
     "name": "stdout",
     "output_type": "stream",
     "text": [
      "Original Audio  : till which transaction can I see my mini statement in this Bank\n",
      "Predicted audio :  till which transaction can I see my mini statement in this Bank\n"
     ]
    }
   ],
   "source": [
    "print(\"Original Audio  : till which transaction can I see my mini statement in this Bank\")\n",
    "print(\"Predicted audio : \",r.recognize_google(audio6))\n"
   ]
  },
  {
   "cell_type": "markdown",
   "metadata": {},
   "source": [
    "## Now we will test this model with long conversation"
   ]
  },
  {
   "cell_type": "markdown",
   "metadata": {},
   "source": [
    "### Testing Audio 7 (With noise):"
   ]
  },
  {
   "cell_type": "code",
   "execution_count": 29,
   "metadata": {},
   "outputs": [],
   "source": [
    "test7=sr.AudioFile('test07.wav')\n",
    "with test7 as source:\n",
    "       audio7=r.record(source)"
   ]
  },
  {
   "cell_type": "markdown",
   "metadata": {},
   "source": [
    "##### Predicting the Output with google api "
   ]
  },
  {
   "cell_type": "code",
   "execution_count": 31,
   "metadata": {},
   "outputs": [
    {
     "name": "stdout",
     "output_type": "stream",
     "text": [
      "Original Audio  : The aim of the banking and financial industry is for speech recognition to reduce friction for the customer. Voice-activated banking could largely reduce the need for human customer service, and lower employee costs. A personalised banking assistant could in return boost customer satisfaction and loyalty.\n",
      "Predicted audio :  the aim of the banking and financial industry is first speech recognition to reduce friction for the customer voice activated banking code largely reduce the need for human customer service and lower employee cost a personalized Banking Assistant code in return most customer satisfaction and loyalty\n"
     ]
    }
   ],
   "source": [
    "print(\"Original Audio  : The aim of the banking and financial industry is for speech recognition to reduce friction for the customer. Voice-activated banking could largely reduce the need for human customer service, and lower employee costs. A personalised banking assistant could in return boost customer satisfaction and loyalty.\")\n",
    "print(\"Predicted audio : \",r.recognize_google(audio7))\n"
   ]
  },
  {
   "cell_type": "markdown",
   "metadata": {},
   "source": [
    "### Accuracy: Percentage of words predicted correctly"
   ]
  },
  {
   "cell_type": "code",
   "execution_count": 32,
   "metadata": {},
   "outputs": [
    {
     "name": "stdout",
     "output_type": "stream",
     "text": [
      "Accuracy :  93.47826086956522\n"
     ]
    }
   ],
   "source": [
    "acc = 43/46 *100 \n",
    "print(\"Accuracy : \",acc)"
   ]
  },
  {
   "cell_type": "markdown",
   "metadata": {},
   "source": [
    "### 43 words are predicted correctly out of total 46 words from test 07.wav"
   ]
  }
 ],
 "metadata": {
  "kernelspec": {
   "display_name": "Python 3",
   "language": "python",
   "name": "python3"
  },
  "language_info": {
   "codemirror_mode": {
    "name": "ipython",
    "version": 3
   },
   "file_extension": ".py",
   "mimetype": "text/x-python",
   "name": "python",
   "nbconvert_exporter": "python",
   "pygments_lexer": "ipython3",
   "version": "3.7.5"
  }
 },
 "nbformat": 4,
 "nbformat_minor": 2
}
